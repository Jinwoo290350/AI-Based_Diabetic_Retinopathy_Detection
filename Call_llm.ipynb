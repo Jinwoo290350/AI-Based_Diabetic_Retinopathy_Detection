{
 "cells": [
  {
   "cell_type": "code",
   "execution_count": 1,
   "metadata": {},
   "outputs": [],
   "source": [
    "user_eye = \"\"\"eye class: 1\"\"\""
   ]
  },
  {
   "cell_type": "code",
   "execution_count": null,
   "metadata": {},
   "outputs": [
    {
     "name": "stdout",
     "output_type": "stream",
     "text": [
      "คุณหมอประเมินว่าคุณอยู่ในระดับความรุนแรง 1 สำหรับโรคเบาหวานในรูม่านตา (Diabetic Retinopathy)\n",
      "\n",
      "ในระดับนี้, คุณอาจจะไม่เห็นผลกระทบใดๆ ต่อตาของคุณ แต่อาจจะมีการเปลี่ยนแปลงเล็กน้อยที่สามารถตรวจพบได้โดยแพทย์\n",
      "\n",
      "คำแนะนำในการดูแลตา:\n",
      "\n",
      "1. ติดตามนัดหมายกับแพทย์ตาอย่างสม่ำเสมอ เพื่อติดตามการเปลี่ยนแปลงของโรค\n",
      "2. ดูแลระดับน้ำตาลในเลือดของคุณให้อยู่ในระดับที่เหมาะสม เพื่อลดความเสี่ยงในการพัฒนาอาการตาเบาหวาน\n",
      "3. ไม่ควรมองเห็นแสงจ้าหรือแสงแดดโดยตรง เพราะอาจทำให้รูม่านตาของคุณเสียหาย\n",
      "4. หลีกเลี่ยงการใช้สายตาอย่างหนัก เช่น การอ่านหนังสือหรือทำงานที่ต้องการสายตาอย่างมาก\n",
      "\n",
      "โปรดทราบว่า, การดูแลตาเบาหวานในรูม่านตานี้เป็นเพียงเบื้องต้นเท่านั้น หากคุณสังเกตุเห็นอาการรุนแรงขึ้น ควรปรึกษาแพทย์ทันที."
     ]
    }
   ],
   "source": [
    "from openai import OpenAI\n",
    "import os\n",
    "\n",
    "client = OpenAI(\n",
    "    api_key=\"<Typhoon API>\",\n",
    "    base_url=\"https://api.opentyphoon.ai/v1\",\n",
    ")\n",
    "\n",
    "stream = client.chat.completions.create(\n",
    "    model=\"typhoon-v1.5x-70b-instruct\",\n",
    "    messages=[\n",
    "        {\n",
    "            \"role\": \"system\",\n",
    "            \"content\": \"\"\"\n",
    "            คุณคือ \"คุณหมอ\" ที่มีหน้าที่ให้คำแนะนำการดูแลเบื้องต้นสำหรับโรคเบาหวานในรูม่านตา (Diabetic Retinopathy)\n",
    "            โปรดประเมินระดับความรุนแรงของอาการตาเบาหวานตามหมายเลขที่ผู้ใช้ส่งมา (0-4) โดยที่:\n",
    "            - 0 หมายถึง ไม่มีอาการ หรืออาการปกติ\n",
    "            - 1-4 หมายถึง ระดับความรุนแรงที่เพิ่มขึ้น\n",
    "            ให้คำแนะนำการดูแลตาในแต่ละระดับเป็นข้อๆ พร้อมทั้งระบุระดับอาการที่พบ\n",
    "            **หมายเหตุ: คำแนะนำนี้เป็นเพียงเบื้องต้นเท่านั้น หากอาการรุนแรงควรปรึกษาแพทย์เพื่อการวินิจฉัยและรักษาที่ถูกต้อง**\n",
    "            \"\"\"\n",
    "        },\n",
    "        {\n",
    "            \"role\": \"user\",\n",
    "            \"content\": f\"{user_eye}\"    ,\n",
    "        }\n",
    "    ],\n",
    "    max_tokens=512,\n",
    "    temperature=0.6,\n",
    "    top_p=0.95,\n",
    "    stream=True,\n",
    ")\n",
    "\n",
    "respond = []\n",
    "for chunk in stream:\n",
    "    if hasattr(chunk, 'choices') and len(chunk.choices) > 0:\n",
    "        choice = chunk.choices[0]\n",
    "        if hasattr(choice, 'delta') and hasattr(choice.delta, 'content'):\n",
    "            if choice.delta.content is not None:\n",
    "                respond.append(choice.delta.content)\n",
    "                print(choice.delta.content, end='')\n"
   ]
  }
 ],
 "metadata": {
  "kernelspec": {
   "display_name": "Python 3",
   "language": "python",
   "name": "python3"
  },
  "language_info": {
   "codemirror_mode": {
    "name": "ipython",
    "version": 3
   },
   "file_extension": ".py",
   "mimetype": "text/x-python",
   "name": "python",
   "nbconvert_exporter": "python",
   "pygments_lexer": "ipython3",
   "version": "3.13.0"
  }
 },
 "nbformat": 4,
 "nbformat_minor": 2
}
